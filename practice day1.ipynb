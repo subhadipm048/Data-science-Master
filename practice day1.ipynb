{
 "cells": [
  {
   "cell_type": "code",
   "execution_count": 2,
   "id": "60e351f2-5270-44ac-8c00-bf48aa4fc1f4",
   "metadata": {},
   "outputs": [],
   "source": [
    "a=10"
   ]
  },
  {
   "cell_type": "code",
   "execution_count": 3,
   "id": "7561c30e-3c33-4116-9510-1ccd89daaaca",
   "metadata": {},
   "outputs": [
    {
     "data": {
      "text/plain": [
       "10"
      ]
     },
     "execution_count": 3,
     "metadata": {},
     "output_type": "execute_result"
    }
   ],
   "source": [
    "a"
   ]
  },
  {
   "cell_type": "code",
   "execution_count": 4,
   "id": "8874f571-5588-4a6d-aee4-694e5d2bdb4d",
   "metadata": {},
   "outputs": [],
   "source": [
    "name=\"subhadip\""
   ]
  },
  {
   "cell_type": "code",
   "execution_count": 5,
   "id": "8d6fc2ed-26eb-4dae-82d6-8c932c4c957d",
   "metadata": {},
   "outputs": [
    {
     "data": {
      "text/plain": [
       "'subhadip'"
      ]
     },
     "execution_count": 5,
     "metadata": {},
     "output_type": "execute_result"
    }
   ],
   "source": [
    "name"
   ]
  },
  {
   "cell_type": "code",
   "execution_count": 6,
   "id": "55ed9887-4629-4c02-8744-2dde7c586be5",
   "metadata": {},
   "outputs": [
    {
     "name": "stdout",
     "output_type": "stream",
     "text": [
      "subhadiP\n",
      "pw\n"
     ]
    }
   ],
   "source": [
    "name=\"subhadiP\"\n",
    "school=\"pw\"\n",
    "print(name)\n",
    "print(school)"
   ]
  },
  {
   "cell_type": "code",
   "execution_count": 7,
   "id": "6c900a49-399a-494b-ae49-4fca2e00fbf0",
   "metadata": {},
   "outputs": [],
   "source": [
    "decimal_num =1.5"
   ]
  },
  {
   "cell_type": "code",
   "execution_count": 8,
   "id": "1c2b0190-2be1-4d60-a08d-f994d59bb390",
   "metadata": {},
   "outputs": [
    {
     "data": {
      "text/plain": [
       "1.5"
      ]
     },
     "execution_count": 8,
     "metadata": {},
     "output_type": "execute_result"
    }
   ],
   "source": [
    "decimal_num"
   ]
  },
  {
   "cell_type": "code",
   "execution_count": 9,
   "id": "5a34d931-6566-4408-9e82-4621eff3eb32",
   "metadata": {},
   "outputs": [
    {
     "data": {
      "text/plain": [
       "float"
      ]
     },
     "execution_count": 9,
     "metadata": {},
     "output_type": "execute_result"
    }
   ],
   "source": [
    "type(decimal_num)"
   ]
  },
  {
   "cell_type": "code",
   "execution_count": 10,
   "id": "1cc690ef-fea2-43b8-a2e1-670c996a39fc",
   "metadata": {},
   "outputs": [],
   "source": [
    "number=10"
   ]
  },
  {
   "cell_type": "code",
   "execution_count": 11,
   "id": "ec6eba41-1c37-421c-8ed9-644dcef1eb4f",
   "metadata": {},
   "outputs": [
    {
     "data": {
      "text/plain": [
       "10"
      ]
     },
     "execution_count": 11,
     "metadata": {},
     "output_type": "execute_result"
    }
   ],
   "source": [
    "number"
   ]
  },
  {
   "cell_type": "code",
   "execution_count": 12,
   "id": "aefa8fdc-a0b6-4bda-aef0-b9140b7bb6ce",
   "metadata": {},
   "outputs": [
    {
     "data": {
      "text/plain": [
       "int"
      ]
     },
     "execution_count": 12,
     "metadata": {},
     "output_type": "execute_result"
    }
   ],
   "source": [
    "type(number)"
   ]
  },
  {
   "cell_type": "code",
   "execution_count": 15,
   "id": "e4554f06-b19b-4dd2-a2c6-207c46651369",
   "metadata": {},
   "outputs": [
    {
     "data": {
      "text/plain": [
       "True"
      ]
     },
     "execution_count": 15,
     "metadata": {},
     "output_type": "execute_result"
    }
   ],
   "source": [
    "True"
   ]
  },
  {
   "cell_type": "code",
   "execution_count": 16,
   "id": "05255291-2561-46d5-a9a4-6f8a78ec12f4",
   "metadata": {},
   "outputs": [
    {
     "data": {
      "text/plain": [
       "False"
      ]
     },
     "execution_count": 16,
     "metadata": {},
     "output_type": "execute_result"
    }
   ],
   "source": [
    "False"
   ]
  },
  {
   "cell_type": "code",
   "execution_count": 18,
   "id": "c121ceaa-8f69-41ee-8a59-ba7914ecdf57",
   "metadata": {},
   "outputs": [
    {
     "data": {
      "text/plain": [
       "bool"
      ]
     },
     "execution_count": 18,
     "metadata": {},
     "output_type": "execute_result"
    }
   ],
   "source": [
    "type(True)"
   ]
  },
  {
   "cell_type": "code",
   "execution_count": 19,
   "id": "af6836a6-166c-4c5f-af10-d12b50a7f733",
   "metadata": {},
   "outputs": [
    {
     "data": {
      "text/plain": [
       "False"
      ]
     },
     "execution_count": 19,
     "metadata": {},
     "output_type": "execute_result"
    }
   ],
   "source": [
    "True and False"
   ]
  },
  {
   "cell_type": "code",
   "execution_count": 20,
   "id": "fca09555-175d-44be-8113-faa1fc6b89a9",
   "metadata": {},
   "outputs": [
    {
     "data": {
      "text/plain": [
       "True"
      ]
     },
     "execution_count": 20,
     "metadata": {},
     "output_type": "execute_result"
    }
   ],
   "source": [
    "True or False"
   ]
  },
  {
   "cell_type": "code",
   "execution_count": 21,
   "id": "dbc9755a-e684-4085-8a09-e35c458d6bae",
   "metadata": {},
   "outputs": [
    {
     "data": {
      "text/plain": [
       "0"
      ]
     },
     "execution_count": 21,
     "metadata": {},
     "output_type": "execute_result"
    }
   ],
   "source": [
    "0 "
   ]
  },
  {
   "cell_type": "code",
   "execution_count": 22,
   "id": "38f58895-6a6e-4f21-b4c0-3c45598c72a6",
   "metadata": {},
   "outputs": [
    {
     "data": {
      "text/plain": [
       "1"
      ]
     },
     "execution_count": 22,
     "metadata": {},
     "output_type": "execute_result"
    }
   ],
   "source": [
    "0 or 1"
   ]
  },
  {
   "cell_type": "code",
   "execution_count": 23,
   "id": "1aa12924-db91-4b62-bda0-609437295c02",
   "metadata": {},
   "outputs": [
    {
     "data": {
      "text/plain": [
       "0"
      ]
     },
     "execution_count": 23,
     "metadata": {},
     "output_type": "execute_result"
    }
   ],
   "source": [
    "0 and 1"
   ]
  },
  {
   "cell_type": "code",
   "execution_count": 24,
   "id": "953e4479-c5ef-46c3-b71b-9a315a42beec",
   "metadata": {},
   "outputs": [
    {
     "data": {
      "text/plain": [
       "int"
      ]
     },
     "execution_count": 24,
     "metadata": {},
     "output_type": "execute_result"
    }
   ],
   "source": [
    "type(1)"
   ]
  },
  {
   "cell_type": "code",
   "execution_count": 25,
   "id": "6a07bd00-f2bd-4b3c-aa33-e6e0f918d185",
   "metadata": {},
   "outputs": [
    {
     "data": {
      "text/plain": [
       "int"
      ]
     },
     "execution_count": 25,
     "metadata": {},
     "output_type": "execute_result"
    }
   ],
   "source": [
    "type(0)"
   ]
  },
  {
   "cell_type": "code",
   "execution_count": 26,
   "id": "f0a54874-0062-4d77-8df8-2ddff4e91f1f",
   "metadata": {},
   "outputs": [
    {
     "data": {
      "text/plain": [
       "'11'"
      ]
     },
     "execution_count": 26,
     "metadata": {},
     "output_type": "execute_result"
    }
   ],
   "source": [
    "\"1\"+\"1\""
   ]
  },
  {
   "cell_type": "code",
   "execution_count": 28,
   "id": "ca4266c0-19f7-4226-ad52-3ad05e693b84",
   "metadata": {},
   "outputs": [
    {
     "data": {
      "text/plain": [
       "2"
      ]
     },
     "execution_count": 28,
     "metadata": {},
     "output_type": "execute_result"
    }
   ],
   "source": [
    "int(1)+int(1)"
   ]
  },
  {
   "cell_type": "code",
   "execution_count": 29,
   "id": "69686477-cc37-4a1e-b24b-16e1828b956a",
   "metadata": {},
   "outputs": [
    {
     "data": {
      "text/plain": [
       "200000"
      ]
     },
     "execution_count": 29,
     "metadata": {},
     "output_type": "execute_result"
    }
   ],
   "source": [
    "int(100)*2000"
   ]
  },
  {
   "cell_type": "code",
   "execution_count": 30,
   "id": "ded3e731-a84e-4bb3-ba81-a1879085b08d",
   "metadata": {},
   "outputs": [
    {
     "data": {
      "text/plain": [
       "'100100100100100100100100100100100100100100100100100100100100100100100100100100100100100100100100100100100100100100100100100100100100100100100100100100100100100100100100100100100100100100100100100100100100100100100100100100100100100100100100100100100100100100100100100100100100100100100100100100100100100100100100100100100100100100100100100100100100100100100100100100100100100100100100100100100100100100100100100100100100100100100100100100100100100100100100100100100100100100100100100100100100100100100100100100100100100100100100100100100100100100100100100100100100100100100100100100100100100100100100100100100100100100100100100100100100100100100100100100100100100100100100100100100100100100100100100100100100100100100100100100100100100100100100100100100100100100100100100100100100100100100100100100100100100100100100100100100100100100100100100100100100100100100100100100100100100100100100100100100100100100100100100100100100100100100100100100100100100100100100100100100100100100100100100100100100100100100100100100100100100100100100100100100100100100100100100100100100100100100100100100100100100100100100100100100100100100100100100100100100100100100100100100100100100100100100100100100100100100100100100100100100100100100100100100100100100100100100100100100100100100100100100100100100100100100100100100100100100100100100100100100100100100100100100100100100100100100100100100100100100100100100100100100100100100100100100100100100100100100100100100100100100100100100100100100100100100100100100100100100100100100100100100100100100100100100100100100100100100100100100100100100100100100100100100100100100100100100100100100100100100100100100100100100100100100100100100100100100100100100100100100100100100100100100100100100100100100100100100100100100100100100100100100100100100100100100100100100100100100100100100100100100100100100100100100100100100100100100100100100100100100100100100100100100100100100100100100100100100100100100100100100100100100100100100100100100100100100100100100100100100100100100100100100100100100100100100100100100100100100100100100100100100100100100100100100100100100100100100100100100100100100100100100100100100100100100100100100100100100100100100100100100100100100100100100100100100100100100100100100100100100100100100100100100100100100100100100100100100100100100100100100100100100100100100100100100100100100100100100100100100100100100100100100100100100100100100100100100100100100100100100100100100100100100100100100100100100100100100100100100100100100100100100100100100100100100100100100100100100100100100100100100100100100100100100100100100100100100100100100100100100100100100100100100100100100100100100100100100100100100100100100100100100100100100100100100100100100100100100100100100100100100100100100100100100100100100100100100100100100100100100100100100100100100100100100100100100100100100100100100100100100100100100100100100100100100100100100100100100100100100100100100100100100100100100100100100100100100100100100100100100100100100100100100100100100100100100100100100100100100100100100100100100100100100100100100100100100100100100100100100100100100100100100100100100100100100100100100100100100100100100100100100100100100100100100100100100100100100100100100100100100100100100100100100100100100100100100100100100100100100100100100100100100100100100100100100100100100100100100100100100100100100100100100100100100100100100100100100100100100100100100100100100100100100100100100100100100100100100100100100100100100100100100100100100100100100100100100100100100100100100100100100100100100100100100100100100100100100100100100100100100100100100100100100100100100100100100100100100100100100100100100100100100100100100100100100100100100100100100100100100100100100100100100100100100100100100100100100100100100100100100100100100100100100100100100100100100100100100100100100100100100100100100100100100100100100100100100100100100100100100100100100100100100100100100100100100100100100100100100100100100100100100100100100100100100100100100100100100100100100100100100100100100100100100100100100100100100100100100100100100100100100100100100100100100100100100100100100100100100100100100100100100100100100100100100100100100100100100100100100100100100100100100100100100100100100100100100100100100100100100100100100100100100100100100100100100100100100100100100100100100100100100100100100100100100100100100100100100100100100100100100100100100100100100100100100100100100100100100100100100100100100100100100100100100100100100100100100100100100100100100100100100100100100100100100100100100100100100100100100100100100100100100100100100100100100100100100100100100100100100100100100100100100100100100100100100100100100100100100100100100100100100100100100100100100100100100100100100100100100100100100100100100100100100100100100100100100100100100100100100100100100100100100100100100100100100100100100100100100100100100100100100100100100100100100100100100100100100100100100100100100100100100100100100100100100100100100100100100100100100100100100100100100100100100100100100100100100100100100100100100100100100100100100100100100100100100100100100100100100100100100100100100100100100100100100100100100100100100100100100100100100100100100100100100100100100100100100100100100100100100100100100100100100100100100100100100100100100100100100100100100100100100100100100100100100100100100100100100100100100100100100100100100100100100100100100100100100100100100100100100100100100100100100100100100100100100100100100100100100100100100100100100100100100100100100100100100100100100100100100100100100100100100100100100100100100100100100100100100100100100100100100100100100100100100100100100100100100100100100100100100100100100100100100100100100100100100100100100100100100100100100100100100100100100100100100100100100100100100100100100100100100100100100100100100100100100100100100100100100100100100100100100100100100100100100100100100100100100100100100100100100100100100100100100100100100100100100100100100100100100100100100100100100100100100100100100100100100100100100100100100100100100100100100100100100100100100100100100'"
      ]
     },
     "execution_count": 30,
     "metadata": {},
     "output_type": "execute_result"
    }
   ],
   "source": [
    "\"100\"*2000"
   ]
  },
  {
   "cell_type": "code",
   "execution_count": 31,
   "id": "e8c567ae-99f9-48b8-95a0-041d1484f5e5",
   "metadata": {},
   "outputs": [
    {
     "name": "stdout",
     "output_type": "stream",
     "text": [
      "hello world\n"
     ]
    }
   ],
   "source": [
    "print(\"hello world\")"
   ]
  },
  {
   "cell_type": "code",
   "execution_count": 32,
   "id": "adcc6baa-5186-4eff-aec1-d36591886dbd",
   "metadata": {},
   "outputs": [
    {
     "name": "stdout",
     "output_type": "stream",
     "text": [
      "12345\n"
     ]
    }
   ],
   "source": [
    "print(12345)"
   ]
  },
  {
   "cell_type": "code",
   "execution_count": 34,
   "id": "0b0494c2-7203-4fff-945c-40bb10ac09fc",
   "metadata": {},
   "outputs": [
    {
     "name": "stdout",
     "output_type": "stream",
     "text": [
      "age\n"
     ]
    }
   ],
   "source": [
    "age=23\n",
    "print(\"age\")"
   ]
  },
  {
   "cell_type": "code",
   "execution_count": 35,
   "id": "04def047-8eca-4762-8683-42fad37088a2",
   "metadata": {},
   "outputs": [
    {
     "name": "stdout",
     "output_type": "stream",
     "text": [
      "my age is\n"
     ]
    }
   ],
   "source": [
    "age=23\n",
    "print(\"my age is\")"
   ]
  },
  {
   "cell_type": "code",
   "execution_count": 36,
   "id": "53f0c358-9296-42d3-9d2e-5255a6467e88",
   "metadata": {},
   "outputs": [
    {
     "name": "stdout",
     "output_type": "stream",
     "text": [
      "my age is 23\n"
     ]
    }
   ],
   "source": [
    "age=23\n",
    "print(\"my age is\",age)"
   ]
  },
  {
   "cell_type": "code",
   "execution_count": 43,
   "id": "3fc7158e-7f99-49ca-9793-2c50a8dbf5e3",
   "metadata": {},
   "outputs": [
    {
     "name": "stdout",
     "output_type": "stream",
     "text": [
      "my age is 203\n"
     ]
    }
   ],
   "source": [
    "age=\"20\"+\"3\"\n",
    "print(\"my age is\",age)"
   ]
  },
  {
   "cell_type": "markdown",
   "id": "4e46c642-72c7-4caf-91b1-34bd9408f674",
   "metadata": {},
   "source": [
    "# Above is concatanation\n",
    "## eg 1+1 =11"
   ]
  },
  {
   "cell_type": "code",
   "execution_count": 46,
   "id": "85b9e41d-c25e-4302-9e0f-c8d953b2ea3d",
   "metadata": {},
   "outputs": [
    {
     "name": "stdout",
     "output_type": "stream",
     "text": [
      "my age is 23\n"
     ]
    }
   ],
   "source": [
    "age=23\n",
    "print(f\"my age is {age}\")"
   ]
  },
  {
   "cell_type": "markdown",
   "id": "cb9c28c9-f877-4cc6-99e2-fe6c1634032f",
   "metadata": {},
   "source": [
    "# use of f formatting"
   ]
  },
  {
   "cell_type": "code",
   "execution_count": 49,
   "id": "b6c2d22d-1514-40e1-95b8-cc3ab13dbdbd",
   "metadata": {},
   "outputs": [
    {
     "name": "stdout",
     "output_type": "stream",
     "text": [
      "My name is subhadip and age is 23\n"
     ]
    }
   ],
   "source": [
    "name=\"subhadip\"\n",
    "age=\"2\"+\"3\"\n",
    "print(f\"My name is {name} and age is {age}\")"
   ]
  },
  {
   "cell_type": "code",
   "execution_count": 2,
   "id": "8c643300-e2dd-4a86-9857-45d977d02ef3",
   "metadata": {},
   "outputs": [
    {
     "name": "stdout",
     "output_type": "stream",
     "text": [
      "my name is subhadip and age is 23\n"
     ]
    }
   ],
   "source": [
    "name=\"subhadip\"\n",
    "age=23\n",
    "print(\"my name is {} and age is {}\".format(name,age))"
   ]
  },
  {
   "cell_type": "code",
   "execution_count": 3,
   "id": "2bacf18b-50a9-4697-a09d-082b2d52388f",
   "metadata": {},
   "outputs": [
    {
     "name": "stdout",
     "output_type": "stream",
     "text": [
      "my name is 23 and age is subhadip\n"
     ]
    }
   ],
   "source": [
    "name=\"subhadip\"\n",
    "age=23\n",
    "print(\"my name is {} and age is {}\".format(age,name))"
   ]
  },
  {
   "cell_type": "markdown",
   "id": "1a491002-2908-441f-9a13-bd515abe008e",
   "metadata": {},
   "source": [
    "# that is wrong because it is reverse......"
   ]
  },
  {
   "cell_type": "markdown",
   "id": "0f0d416e-eba4-4652-a08f-2e9a0b6cb71c",
   "metadata": {},
   "source": [
    "# PLACEHOLDER"
   ]
  },
  {
   "cell_type": "code",
   "execution_count": 4,
   "id": "6b32db04-1089-4608-a2f5-7c19dcbf2276",
   "metadata": {},
   "outputs": [
    {
     "name": "stdout",
     "output_type": "stream",
     "text": [
      "my name is subhadip and age is 23\n"
     ]
    }
   ],
   "source": [
    "name=\"subhadip\"\n",
    "age=23\n",
    "print(\"my name is {name1} and age is {age1}\".format(name1=name,age1=age))"
   ]
  },
  {
   "cell_type": "code",
   "execution_count": 10,
   "id": "71f505d7-71e1-4047-aca4-e9afd626bcbe",
   "metadata": {},
   "outputs": [
    {
     "name": "stdout",
     "output_type": "stream",
     "text": [
      "my age is 23 and i have completed my degree B.Sc  with the name of subhadip \n"
     ]
    }
   ],
   "source": [
    "name=\"subhadip\"\n",
    "age=23\n",
    "degree=\"B.Sc\"\n",
    "print(f\"my age is {age} and i have completed my degree {degree}  with the name of {name} \")\n"
   ]
  },
  {
   "cell_type": "markdown",
   "id": "bdf412a9-9030-439d-bd33-293a46f2ebca",
   "metadata": {},
   "source": [
    "# if Statement"
   ]
  },
  {
   "cell_type": "code",
   "execution_count": 45,
   "id": "46a68787-430d-4e16-8c50-3c3984dec50f",
   "metadata": {},
   "outputs": [
    {
     "data": {
      "text/plain": [
       "True"
      ]
     },
     "execution_count": 45,
     "metadata": {},
     "output_type": "execute_result"
    }
   ],
   "source": [
    "18>=18\n"
   ]
  },
  {
   "cell_type": "code",
   "execution_count": 47,
   "id": "8791ace0-d2dd-4455-b8ab-7095e455e0e0",
   "metadata": {},
   "outputs": [
    {
     "name": "stdout",
     "output_type": "stream",
     "text": [
      "you are eligible to perform vote\n"
     ]
    }
   ],
   "source": [
    "age=18\n",
    "if age>=18:\n",
    "    print(\"you are eligible to perform vote\")"
   ]
  },
  {
   "cell_type": "code",
   "execution_count": 48,
   "id": "5485dac4-726c-4859-8fba-f61578a0ed28",
   "metadata": {},
   "outputs": [
    {
     "data": {
      "text/plain": [
       "bool"
      ]
     },
     "execution_count": 48,
     "metadata": {},
     "output_type": "execute_result"
    }
   ],
   "source": [
    "type(18>=18)"
   ]
  },
  {
   "cell_type": "code",
   "execution_count": 1,
   "id": "d0c34eae-a34a-470d-8397-c43d3c149294",
   "metadata": {},
   "outputs": [
    {
     "name": "stdin",
     "output_type": "stream",
     "text": [
      " subhadip\n"
     ]
    },
    {
     "data": {
      "text/plain": [
       "'subhadip'"
      ]
     },
     "execution_count": 1,
     "metadata": {},
     "output_type": "execute_result"
    }
   ],
   "source": [
    "input()"
   ]
  },
  {
   "cell_type": "code",
   "execution_count": 4,
   "id": "49914641-6a37-47ad-a585-438115b3eaca",
   "metadata": {},
   "outputs": [
    {
     "name": "stdin",
     "output_type": "stream",
     "text": [
      "enter the name subhadip\n"
     ]
    }
   ],
   "source": [
    "name=input(\"enter the name\")"
   ]
  },
  {
   "cell_type": "code",
   "execution_count": 5,
   "id": "69a4ad41-7b67-4a07-a879-26a0b2051510",
   "metadata": {},
   "outputs": [
    {
     "name": "stdin",
     "output_type": "stream",
     "text": [
      "enter your age 23\n"
     ]
    }
   ],
   "source": [
    "age=int(input(\"enter your age\"))"
   ]
  }
 ],
 "metadata": {
  "kernelspec": {
   "display_name": "Python 3 (ipykernel)",
   "language": "python",
   "name": "python3"
  },
  "language_info": {
   "codemirror_mode": {
    "name": "ipython",
    "version": 3
   },
   "file_extension": ".py",
   "mimetype": "text/x-python",
   "name": "python",
   "nbconvert_exporter": "python",
   "pygments_lexer": "ipython3",
   "version": "3.10.8"
  }
 },
 "nbformat": 4,
 "nbformat_minor": 5
}
